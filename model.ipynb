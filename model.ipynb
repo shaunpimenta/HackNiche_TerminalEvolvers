{
 "cells": [
  {
   "cell_type": "code",
   "execution_count": 1,
   "id": "c9ea2d85",
   "metadata": {},
   "outputs": [],
   "source": [
    "import pandas as pd"
   ]
  },
  {
   "cell_type": "code",
   "execution_count": 2,
   "id": "85923279",
   "metadata": {},
   "outputs": [],
   "source": [
    "data=pd.read_csv('adult.csv')"
   ]
  },
  {
   "cell_type": "code",
   "execution_count": 3,
   "id": "717f63b3",
   "metadata": {},
   "outputs": [
    {
     "data": {
      "text/html": [
       "<div>\n",
       "<style scoped>\n",
       "    .dataframe tbody tr th:only-of-type {\n",
       "        vertical-align: middle;\n",
       "    }\n",
       "\n",
       "    .dataframe tbody tr th {\n",
       "        vertical-align: top;\n",
       "    }\n",
       "\n",
       "    .dataframe thead th {\n",
       "        text-align: right;\n",
       "    }\n",
       "</style>\n",
       "<table border=\"1\" class=\"dataframe\">\n",
       "  <thead>\n",
       "    <tr style=\"text-align: right;\">\n",
       "      <th></th>\n",
       "      <th>age</th>\n",
       "      <th>workclass</th>\n",
       "      <th>fnlwgt</th>\n",
       "      <th>education</th>\n",
       "      <th>education.num</th>\n",
       "      <th>marital.status</th>\n",
       "      <th>occupation</th>\n",
       "      <th>relationship</th>\n",
       "      <th>race</th>\n",
       "      <th>sex</th>\n",
       "      <th>capital.gain</th>\n",
       "      <th>capital.loss</th>\n",
       "      <th>hours.per.week</th>\n",
       "      <th>native.country</th>\n",
       "      <th>income</th>\n",
       "    </tr>\n",
       "  </thead>\n",
       "  <tbody>\n",
       "    <tr>\n",
       "      <th>0</th>\n",
       "      <td>90</td>\n",
       "      <td>?</td>\n",
       "      <td>77053</td>\n",
       "      <td>HS-grad</td>\n",
       "      <td>9</td>\n",
       "      <td>Widowed</td>\n",
       "      <td>?</td>\n",
       "      <td>Not-in-family</td>\n",
       "      <td>White</td>\n",
       "      <td>Female</td>\n",
       "      <td>0</td>\n",
       "      <td>4356</td>\n",
       "      <td>40</td>\n",
       "      <td>United-States</td>\n",
       "      <td>&lt;=50K</td>\n",
       "    </tr>\n",
       "    <tr>\n",
       "      <th>1</th>\n",
       "      <td>82</td>\n",
       "      <td>Private</td>\n",
       "      <td>132870</td>\n",
       "      <td>HS-grad</td>\n",
       "      <td>9</td>\n",
       "      <td>Widowed</td>\n",
       "      <td>Exec-managerial</td>\n",
       "      <td>Not-in-family</td>\n",
       "      <td>White</td>\n",
       "      <td>Female</td>\n",
       "      <td>0</td>\n",
       "      <td>4356</td>\n",
       "      <td>18</td>\n",
       "      <td>United-States</td>\n",
       "      <td>&lt;=50K</td>\n",
       "    </tr>\n",
       "    <tr>\n",
       "      <th>2</th>\n",
       "      <td>66</td>\n",
       "      <td>?</td>\n",
       "      <td>186061</td>\n",
       "      <td>Some-college</td>\n",
       "      <td>10</td>\n",
       "      <td>Widowed</td>\n",
       "      <td>?</td>\n",
       "      <td>Unmarried</td>\n",
       "      <td>Black</td>\n",
       "      <td>Female</td>\n",
       "      <td>0</td>\n",
       "      <td>4356</td>\n",
       "      <td>40</td>\n",
       "      <td>United-States</td>\n",
       "      <td>&lt;=50K</td>\n",
       "    </tr>\n",
       "    <tr>\n",
       "      <th>3</th>\n",
       "      <td>54</td>\n",
       "      <td>Private</td>\n",
       "      <td>140359</td>\n",
       "      <td>7th-8th</td>\n",
       "      <td>4</td>\n",
       "      <td>Divorced</td>\n",
       "      <td>Machine-op-inspct</td>\n",
       "      <td>Unmarried</td>\n",
       "      <td>White</td>\n",
       "      <td>Female</td>\n",
       "      <td>0</td>\n",
       "      <td>3900</td>\n",
       "      <td>40</td>\n",
       "      <td>United-States</td>\n",
       "      <td>&lt;=50K</td>\n",
       "    </tr>\n",
       "    <tr>\n",
       "      <th>4</th>\n",
       "      <td>41</td>\n",
       "      <td>Private</td>\n",
       "      <td>264663</td>\n",
       "      <td>Some-college</td>\n",
       "      <td>10</td>\n",
       "      <td>Separated</td>\n",
       "      <td>Prof-specialty</td>\n",
       "      <td>Own-child</td>\n",
       "      <td>White</td>\n",
       "      <td>Female</td>\n",
       "      <td>0</td>\n",
       "      <td>3900</td>\n",
       "      <td>40</td>\n",
       "      <td>United-States</td>\n",
       "      <td>&lt;=50K</td>\n",
       "    </tr>\n",
       "    <tr>\n",
       "      <th>...</th>\n",
       "      <td>...</td>\n",
       "      <td>...</td>\n",
       "      <td>...</td>\n",
       "      <td>...</td>\n",
       "      <td>...</td>\n",
       "      <td>...</td>\n",
       "      <td>...</td>\n",
       "      <td>...</td>\n",
       "      <td>...</td>\n",
       "      <td>...</td>\n",
       "      <td>...</td>\n",
       "      <td>...</td>\n",
       "      <td>...</td>\n",
       "      <td>...</td>\n",
       "      <td>...</td>\n",
       "    </tr>\n",
       "    <tr>\n",
       "      <th>32556</th>\n",
       "      <td>22</td>\n",
       "      <td>Private</td>\n",
       "      <td>310152</td>\n",
       "      <td>Some-college</td>\n",
       "      <td>10</td>\n",
       "      <td>Never-married</td>\n",
       "      <td>Protective-serv</td>\n",
       "      <td>Not-in-family</td>\n",
       "      <td>White</td>\n",
       "      <td>Male</td>\n",
       "      <td>0</td>\n",
       "      <td>0</td>\n",
       "      <td>40</td>\n",
       "      <td>United-States</td>\n",
       "      <td>&lt;=50K</td>\n",
       "    </tr>\n",
       "    <tr>\n",
       "      <th>32557</th>\n",
       "      <td>27</td>\n",
       "      <td>Private</td>\n",
       "      <td>257302</td>\n",
       "      <td>Assoc-acdm</td>\n",
       "      <td>12</td>\n",
       "      <td>Married-civ-spouse</td>\n",
       "      <td>Tech-support</td>\n",
       "      <td>Wife</td>\n",
       "      <td>White</td>\n",
       "      <td>Female</td>\n",
       "      <td>0</td>\n",
       "      <td>0</td>\n",
       "      <td>38</td>\n",
       "      <td>United-States</td>\n",
       "      <td>&lt;=50K</td>\n",
       "    </tr>\n",
       "    <tr>\n",
       "      <th>32558</th>\n",
       "      <td>40</td>\n",
       "      <td>Private</td>\n",
       "      <td>154374</td>\n",
       "      <td>HS-grad</td>\n",
       "      <td>9</td>\n",
       "      <td>Married-civ-spouse</td>\n",
       "      <td>Machine-op-inspct</td>\n",
       "      <td>Husband</td>\n",
       "      <td>White</td>\n",
       "      <td>Male</td>\n",
       "      <td>0</td>\n",
       "      <td>0</td>\n",
       "      <td>40</td>\n",
       "      <td>United-States</td>\n",
       "      <td>&gt;50K</td>\n",
       "    </tr>\n",
       "    <tr>\n",
       "      <th>32559</th>\n",
       "      <td>58</td>\n",
       "      <td>Private</td>\n",
       "      <td>151910</td>\n",
       "      <td>HS-grad</td>\n",
       "      <td>9</td>\n",
       "      <td>Widowed</td>\n",
       "      <td>Adm-clerical</td>\n",
       "      <td>Unmarried</td>\n",
       "      <td>White</td>\n",
       "      <td>Female</td>\n",
       "      <td>0</td>\n",
       "      <td>0</td>\n",
       "      <td>40</td>\n",
       "      <td>United-States</td>\n",
       "      <td>&lt;=50K</td>\n",
       "    </tr>\n",
       "    <tr>\n",
       "      <th>32560</th>\n",
       "      <td>22</td>\n",
       "      <td>Private</td>\n",
       "      <td>201490</td>\n",
       "      <td>HS-grad</td>\n",
       "      <td>9</td>\n",
       "      <td>Never-married</td>\n",
       "      <td>Adm-clerical</td>\n",
       "      <td>Own-child</td>\n",
       "      <td>White</td>\n",
       "      <td>Male</td>\n",
       "      <td>0</td>\n",
       "      <td>0</td>\n",
       "      <td>20</td>\n",
       "      <td>United-States</td>\n",
       "      <td>&lt;=50K</td>\n",
       "    </tr>\n",
       "  </tbody>\n",
       "</table>\n",
       "<p>32561 rows × 15 columns</p>\n",
       "</div>"
      ],
      "text/plain": [
       "       age workclass  fnlwgt     education  education.num      marital.status  \\\n",
       "0       90         ?   77053       HS-grad              9             Widowed   \n",
       "1       82   Private  132870       HS-grad              9             Widowed   \n",
       "2       66         ?  186061  Some-college             10             Widowed   \n",
       "3       54   Private  140359       7th-8th              4            Divorced   \n",
       "4       41   Private  264663  Some-college             10           Separated   \n",
       "...    ...       ...     ...           ...            ...                 ...   \n",
       "32556   22   Private  310152  Some-college             10       Never-married   \n",
       "32557   27   Private  257302    Assoc-acdm             12  Married-civ-spouse   \n",
       "32558   40   Private  154374       HS-grad              9  Married-civ-spouse   \n",
       "32559   58   Private  151910       HS-grad              9             Widowed   \n",
       "32560   22   Private  201490       HS-grad              9       Never-married   \n",
       "\n",
       "              occupation   relationship   race     sex  capital.gain  \\\n",
       "0                      ?  Not-in-family  White  Female             0   \n",
       "1        Exec-managerial  Not-in-family  White  Female             0   \n",
       "2                      ?      Unmarried  Black  Female             0   \n",
       "3      Machine-op-inspct      Unmarried  White  Female             0   \n",
       "4         Prof-specialty      Own-child  White  Female             0   \n",
       "...                  ...            ...    ...     ...           ...   \n",
       "32556    Protective-serv  Not-in-family  White    Male             0   \n",
       "32557       Tech-support           Wife  White  Female             0   \n",
       "32558  Machine-op-inspct        Husband  White    Male             0   \n",
       "32559       Adm-clerical      Unmarried  White  Female             0   \n",
       "32560       Adm-clerical      Own-child  White    Male             0   \n",
       "\n",
       "       capital.loss  hours.per.week native.country income  \n",
       "0              4356              40  United-States  <=50K  \n",
       "1              4356              18  United-States  <=50K  \n",
       "2              4356              40  United-States  <=50K  \n",
       "3              3900              40  United-States  <=50K  \n",
       "4              3900              40  United-States  <=50K  \n",
       "...             ...             ...            ...    ...  \n",
       "32556             0              40  United-States  <=50K  \n",
       "32557             0              38  United-States  <=50K  \n",
       "32558             0              40  United-States   >50K  \n",
       "32559             0              40  United-States  <=50K  \n",
       "32560             0              20  United-States  <=50K  \n",
       "\n",
       "[32561 rows x 15 columns]"
      ]
     },
     "execution_count": 3,
     "metadata": {},
     "output_type": "execute_result"
    }
   ],
   "source": [
    "data"
   ]
  },
  {
   "cell_type": "code",
   "execution_count": 4,
   "id": "f13fcbb1",
   "metadata": {},
   "outputs": [],
   "source": [
    "stock=pd.read_csv('FullDataCsv/ADANIPORTS__EQ__NSE__NSE__MINUTE.csv')"
   ]
  },
  {
   "cell_type": "code",
   "execution_count": 5,
   "id": "da3fe7fb",
   "metadata": {},
   "outputs": [
    {
     "data": {
      "text/html": [
       "<div>\n",
       "<style scoped>\n",
       "    .dataframe tbody tr th:only-of-type {\n",
       "        vertical-align: middle;\n",
       "    }\n",
       "\n",
       "    .dataframe tbody tr th {\n",
       "        vertical-align: top;\n",
       "    }\n",
       "\n",
       "    .dataframe thead th {\n",
       "        text-align: right;\n",
       "    }\n",
       "</style>\n",
       "<table border=\"1\" class=\"dataframe\">\n",
       "  <thead>\n",
       "    <tr style=\"text-align: right;\">\n",
       "      <th></th>\n",
       "      <th>timestamp</th>\n",
       "      <th>open</th>\n",
       "      <th>high</th>\n",
       "      <th>low</th>\n",
       "      <th>close</th>\n",
       "      <th>volume</th>\n",
       "    </tr>\n",
       "  </thead>\n",
       "  <tbody>\n",
       "    <tr>\n",
       "      <th>0</th>\n",
       "      <td>2017-01-02 09:15:00+05:30</td>\n",
       "      <td>269.80</td>\n",
       "      <td>270.00</td>\n",
       "      <td>268.00</td>\n",
       "      <td>268.05</td>\n",
       "      <td>12736.0</td>\n",
       "    </tr>\n",
       "    <tr>\n",
       "      <th>1</th>\n",
       "      <td>2017-01-02 09:16:00+05:30</td>\n",
       "      <td>268.05</td>\n",
       "      <td>268.45</td>\n",
       "      <td>267.40</td>\n",
       "      <td>267.45</td>\n",
       "      <td>13620.0</td>\n",
       "    </tr>\n",
       "    <tr>\n",
       "      <th>2</th>\n",
       "      <td>2017-01-02 09:17:00+05:30</td>\n",
       "      <td>267.60</td>\n",
       "      <td>267.75</td>\n",
       "      <td>267.30</td>\n",
       "      <td>267.50</td>\n",
       "      <td>13014.0</td>\n",
       "    </tr>\n",
       "    <tr>\n",
       "      <th>3</th>\n",
       "      <td>2017-01-02 09:18:00+05:30</td>\n",
       "      <td>267.45</td>\n",
       "      <td>267.65</td>\n",
       "      <td>267.00</td>\n",
       "      <td>267.65</td>\n",
       "      <td>11664.0</td>\n",
       "    </tr>\n",
       "    <tr>\n",
       "      <th>4</th>\n",
       "      <td>2017-01-02 09:19:00+05:30</td>\n",
       "      <td>267.65</td>\n",
       "      <td>268.20</td>\n",
       "      <td>267.50</td>\n",
       "      <td>268.15</td>\n",
       "      <td>6790.0</td>\n",
       "    </tr>\n",
       "    <tr>\n",
       "      <th>...</th>\n",
       "      <td>...</td>\n",
       "      <td>...</td>\n",
       "      <td>...</td>\n",
       "      <td>...</td>\n",
       "      <td>...</td>\n",
       "      <td>...</td>\n",
       "    </tr>\n",
       "    <tr>\n",
       "      <th>370540</th>\n",
       "      <td>2021-01-01 15:25:00+05:30</td>\n",
       "      <td>504.95</td>\n",
       "      <td>505.45</td>\n",
       "      <td>504.65</td>\n",
       "      <td>504.90</td>\n",
       "      <td>22304.0</td>\n",
       "    </tr>\n",
       "    <tr>\n",
       "      <th>370541</th>\n",
       "      <td>2021-01-01 15:26:00+05:30</td>\n",
       "      <td>504.90</td>\n",
       "      <td>505.70</td>\n",
       "      <td>504.75</td>\n",
       "      <td>505.00</td>\n",
       "      <td>17259.0</td>\n",
       "    </tr>\n",
       "    <tr>\n",
       "      <th>370542</th>\n",
       "      <td>2021-01-01 15:27:00+05:30</td>\n",
       "      <td>504.95</td>\n",
       "      <td>505.50</td>\n",
       "      <td>504.85</td>\n",
       "      <td>505.50</td>\n",
       "      <td>24725.0</td>\n",
       "    </tr>\n",
       "    <tr>\n",
       "      <th>370543</th>\n",
       "      <td>2021-01-01 15:28:00+05:30</td>\n",
       "      <td>505.45</td>\n",
       "      <td>505.50</td>\n",
       "      <td>504.45</td>\n",
       "      <td>504.65</td>\n",
       "      <td>25678.0</td>\n",
       "    </tr>\n",
       "    <tr>\n",
       "      <th>370544</th>\n",
       "      <td>2021-01-01 15:29:00+05:30</td>\n",
       "      <td>504.90</td>\n",
       "      <td>505.60</td>\n",
       "      <td>504.00</td>\n",
       "      <td>505.00</td>\n",
       "      <td>23016.0</td>\n",
       "    </tr>\n",
       "  </tbody>\n",
       "</table>\n",
       "<p>370545 rows × 6 columns</p>\n",
       "</div>"
      ],
      "text/plain": [
       "                        timestamp    open    high     low   close   volume\n",
       "0       2017-01-02 09:15:00+05:30  269.80  270.00  268.00  268.05  12736.0\n",
       "1       2017-01-02 09:16:00+05:30  268.05  268.45  267.40  267.45  13620.0\n",
       "2       2017-01-02 09:17:00+05:30  267.60  267.75  267.30  267.50  13014.0\n",
       "3       2017-01-02 09:18:00+05:30  267.45  267.65  267.00  267.65  11664.0\n",
       "4       2017-01-02 09:19:00+05:30  267.65  268.20  267.50  268.15   6790.0\n",
       "...                           ...     ...     ...     ...     ...      ...\n",
       "370540  2021-01-01 15:25:00+05:30  504.95  505.45  504.65  504.90  22304.0\n",
       "370541  2021-01-01 15:26:00+05:30  504.90  505.70  504.75  505.00  17259.0\n",
       "370542  2021-01-01 15:27:00+05:30  504.95  505.50  504.85  505.50  24725.0\n",
       "370543  2021-01-01 15:28:00+05:30  505.45  505.50  504.45  504.65  25678.0\n",
       "370544  2021-01-01 15:29:00+05:30  504.90  505.60  504.00  505.00  23016.0\n",
       "\n",
       "[370545 rows x 6 columns]"
      ]
     },
     "execution_count": 5,
     "metadata": {},
     "output_type": "execute_result"
    }
   ],
   "source": [
    "stock"
   ]
  },
  {
   "cell_type": "code",
   "execution_count": 6,
   "id": "3ec1a985",
   "metadata": {},
   "outputs": [],
   "source": [
    "import math\n",
    "import numpy as np\n",
    "import pandas as pd\n",
    "from sklearn.preprocessing import MinMaxScaler\n",
    "from tensorflow.keras.models import Sequential\n",
    "from tensorflow.keras.layers import Dense, LSTM\n",
    "import matplotlib.pyplot as plt"
   ]
  },
  {
   "cell_type": "code",
   "execution_count": 7,
   "id": "2a7fc373",
   "metadata": {},
   "outputs": [],
   "source": [
    "df=pd.read_csv('FullDataCsv/BAJAJ_AUTO__EQ__NSE__NSE__MINUTE.csv')\n"
   ]
  },
  {
   "cell_type": "code",
   "execution_count": 8,
   "id": "d1d1de6d",
   "metadata": {},
   "outputs": [
    {
     "data": {
      "text/html": [
       "<div>\n",
       "<style scoped>\n",
       "    .dataframe tbody tr th:only-of-type {\n",
       "        vertical-align: middle;\n",
       "    }\n",
       "\n",
       "    .dataframe tbody tr th {\n",
       "        vertical-align: top;\n",
       "    }\n",
       "\n",
       "    .dataframe thead th {\n",
       "        text-align: right;\n",
       "    }\n",
       "</style>\n",
       "<table border=\"1\" class=\"dataframe\">\n",
       "  <thead>\n",
       "    <tr style=\"text-align: right;\">\n",
       "      <th></th>\n",
       "      <th>timestamp</th>\n",
       "      <th>open</th>\n",
       "      <th>high</th>\n",
       "      <th>low</th>\n",
       "      <th>close</th>\n",
       "      <th>volume</th>\n",
       "    </tr>\n",
       "  </thead>\n",
       "  <tbody>\n",
       "    <tr>\n",
       "      <th>0</th>\n",
       "      <td>2017-01-02 09:15:00+05:30</td>\n",
       "      <td>2640.15</td>\n",
       "      <td>2654.30</td>\n",
       "      <td>2617.55</td>\n",
       "      <td>2627.00</td>\n",
       "      <td>2235.0</td>\n",
       "    </tr>\n",
       "    <tr>\n",
       "      <th>1</th>\n",
       "      <td>2017-01-02 09:16:00+05:30</td>\n",
       "      <td>2627.00</td>\n",
       "      <td>2646.10</td>\n",
       "      <td>2612.35</td>\n",
       "      <td>2612.35</td>\n",
       "      <td>2806.0</td>\n",
       "    </tr>\n",
       "    <tr>\n",
       "      <th>2</th>\n",
       "      <td>2017-01-02 09:17:00+05:30</td>\n",
       "      <td>2614.45</td>\n",
       "      <td>2614.45</td>\n",
       "      <td>2591.30</td>\n",
       "      <td>2596.00</td>\n",
       "      <td>7443.0</td>\n",
       "    </tr>\n",
       "    <tr>\n",
       "      <th>3</th>\n",
       "      <td>2017-01-02 09:18:00+05:30</td>\n",
       "      <td>2596.00</td>\n",
       "      <td>2596.00</td>\n",
       "      <td>2587.75</td>\n",
       "      <td>2590.80</td>\n",
       "      <td>3289.0</td>\n",
       "    </tr>\n",
       "    <tr>\n",
       "      <th>4</th>\n",
       "      <td>2017-01-02 09:19:00+05:30</td>\n",
       "      <td>2593.00</td>\n",
       "      <td>2596.95</td>\n",
       "      <td>2584.00</td>\n",
       "      <td>2589.95</td>\n",
       "      <td>4862.0</td>\n",
       "    </tr>\n",
       "    <tr>\n",
       "      <th>...</th>\n",
       "      <td>...</td>\n",
       "      <td>...</td>\n",
       "      <td>...</td>\n",
       "      <td>...</td>\n",
       "      <td>...</td>\n",
       "      <td>...</td>\n",
       "    </tr>\n",
       "    <tr>\n",
       "      <th>370541</th>\n",
       "      <td>2021-01-01 15:25:00+05:30</td>\n",
       "      <td>3472.80</td>\n",
       "      <td>3475.85</td>\n",
       "      <td>3470.00</td>\n",
       "      <td>3470.05</td>\n",
       "      <td>2059.0</td>\n",
       "    </tr>\n",
       "    <tr>\n",
       "      <th>370542</th>\n",
       "      <td>2021-01-01 15:26:00+05:30</td>\n",
       "      <td>3470.05</td>\n",
       "      <td>3477.35</td>\n",
       "      <td>3469.15</td>\n",
       "      <td>3473.40</td>\n",
       "      <td>1991.0</td>\n",
       "    </tr>\n",
       "    <tr>\n",
       "      <th>370543</th>\n",
       "      <td>2021-01-01 15:27:00+05:30</td>\n",
       "      <td>3473.40</td>\n",
       "      <td>3475.00</td>\n",
       "      <td>3470.45</td>\n",
       "      <td>3470.45</td>\n",
       "      <td>1372.0</td>\n",
       "    </tr>\n",
       "    <tr>\n",
       "      <th>370544</th>\n",
       "      <td>2021-01-01 15:28:00+05:30</td>\n",
       "      <td>3470.45</td>\n",
       "      <td>3475.00</td>\n",
       "      <td>3470.00</td>\n",
       "      <td>3472.20</td>\n",
       "      <td>1442.0</td>\n",
       "    </tr>\n",
       "    <tr>\n",
       "      <th>370545</th>\n",
       "      <td>2021-01-01 15:29:00+05:30</td>\n",
       "      <td>3473.35</td>\n",
       "      <td>3479.60</td>\n",
       "      <td>3470.45</td>\n",
       "      <td>3479.00</td>\n",
       "      <td>352.0</td>\n",
       "    </tr>\n",
       "  </tbody>\n",
       "</table>\n",
       "<p>370546 rows × 6 columns</p>\n",
       "</div>"
      ],
      "text/plain": [
       "                        timestamp     open     high      low    close  volume\n",
       "0       2017-01-02 09:15:00+05:30  2640.15  2654.30  2617.55  2627.00  2235.0\n",
       "1       2017-01-02 09:16:00+05:30  2627.00  2646.10  2612.35  2612.35  2806.0\n",
       "2       2017-01-02 09:17:00+05:30  2614.45  2614.45  2591.30  2596.00  7443.0\n",
       "3       2017-01-02 09:18:00+05:30  2596.00  2596.00  2587.75  2590.80  3289.0\n",
       "4       2017-01-02 09:19:00+05:30  2593.00  2596.95  2584.00  2589.95  4862.0\n",
       "...                           ...      ...      ...      ...      ...     ...\n",
       "370541  2021-01-01 15:25:00+05:30  3472.80  3475.85  3470.00  3470.05  2059.0\n",
       "370542  2021-01-01 15:26:00+05:30  3470.05  3477.35  3469.15  3473.40  1991.0\n",
       "370543  2021-01-01 15:27:00+05:30  3473.40  3475.00  3470.45  3470.45  1372.0\n",
       "370544  2021-01-01 15:28:00+05:30  3470.45  3475.00  3470.00  3472.20  1442.0\n",
       "370545  2021-01-01 15:29:00+05:30  3473.35  3479.60  3470.45  3479.00   352.0\n",
       "\n",
       "[370546 rows x 6 columns]"
      ]
     },
     "execution_count": 8,
     "metadata": {},
     "output_type": "execute_result"
    }
   ],
   "source": [
    "df"
   ]
  },
  {
   "cell_type": "code",
   "execution_count": 9,
   "id": "25de6303",
   "metadata": {},
   "outputs": [],
   "source": [
    "df.dropna(inplace=True)\n"
   ]
  },
  {
   "cell_type": "code",
   "execution_count": 10,
   "id": "279c3526",
   "metadata": {},
   "outputs": [
    {
     "data": {
      "image/png": "[encoded data removed]",
      "text/plain": [
       "<Figure size 1152x576 with 1 Axes>"
      ]
     },
     "metadata": {
      "needs_background": "light"
     },
     "output_type": "display_data"
    }
   ],
   "source": [
    "import seaborn as sns\n",
    "plt.figure(figsize=(16,8))\n",
    "plt.title('Close Price History')\n",
    "plt.plot(df['close'])\n",
    "#ax=sns.lineplot(data=df, x='timestamp',y='close', color=\"blue\");\n",
    "plt.xlabel('timestamp',fontsize=18)\n",
    "plt.ylabel('Close Price INR',fontsize=18)\n",
    "plt.show()"
   ]
  },
  {
   "cell_type": "code",
   "execution_count": 11,
   "id": "2fa3d051",
   "metadata": {},
   "outputs": [],
   "source": [
    "data = df.filter(['close'])\n",
    "dataset = data.values\n",
    "training_data_len = math.ceil( len(dataset) *.8) "
   ]
  },
  {
   "cell_type": "code",
   "execution_count": 51,
   "id": "9b21816f",
   "metadata": {},
   "outputs": [
    {
     "data": {
      "text/plain": [
       "(370408, 1)"
      ]
     },
     "execution_count": 51,
     "metadata": {},
     "output_type": "execute_result"
    }
   ],
   "source": [
    "scaler = MinMaxScaler(feature_range=(0, 1)) \n",
    "scaled_data = scaler.fit_transform(dataset)\n",
    "scaled_data\n",
    "dataset.shape"
   ]
  },
  {
   "cell_type": "code",
   "execution_count": 13,
   "id": "a2c35732",
   "metadata": {},
   "outputs": [],
   "source": [
    "train_data = scaled_data[0:training_data_len  , : ]\n",
    "x_train=[]\n",
    "y_train = []\n",
    "for i in range(60,len(train_data)):\n",
    "    x_train.append(train_data[i-60:i,0])\n",
    "    y_train.append(train_data[i,0])"
   ]
  },
  {
   "cell_type": "code",
   "execution_count": 14,
   "id": "f9c306fe",
   "metadata": {},
   "outputs": [],
   "source": [
    "x_train, y_train = np.array(x_train), np.array(y_train)\n"
   ]
  },
  {
   "cell_type": "code",
   "execution_count": 15,
   "id": "dbe7ab60",
   "metadata": {},
   "outputs": [],
   "source": [
    "x_train = np.reshape(x_train, (x_train.shape[0],x_train.shape[1],1))"
   ]
  },
  {
   "cell_type": "code",
   "execution_count": 16,
   "id": "6937bdc4",
   "metadata": {},
   "outputs": [],
   "source": [
    "model = Sequential()\n",
    "model.add(LSTM(units=50, return_sequences=True,input_shape=(x_train.shape[1],1)))\n",
    "model.add(LSTM(units=50, return_sequences=False))\n",
    "model.add(Dense(units=25))\n",
    "model.add(Dense(units=1))"
   ]
  },
  {
   "cell_type": "code",
   "execution_count": 17,
   "id": "f63cd596",
   "metadata": {},
   "outputs": [],
   "source": [
    "model.compile(optimizer='adam', loss='mean_squared_error')"
   ]
  },
  {
   "cell_type": "code",
   "execution_count": 18,
   "id": "78fc369a",
   "metadata": {},
   "outputs": [
    {
     "name": "stdout",
     "output_type": "stream",
     "text": [
      "4630/4630 [==============================] - 194s 41ms/step - loss: 2.0005e-04\n"
     ]
    },
    {
     "data": {
      "text/plain": [
       "<keras.callbacks.History at 0x1efe0fb63d0>"
      ]
     },
     "execution_count": 18,
     "metadata": {},
     "output_type": "execute_result"
    }
   ],
   "source": [
    "model.fit(x_train, y_train, batch_size=64, epochs=1)"
   ]
  },
  {
   "cell_type": "code",
   "execution_count": 19,
   "id": "0bd61b0e",
   "metadata": {},
   "outputs": [],
   "source": [
    "test_data = scaled_data[training_data_len - 60: , : ]#Create the x_test and y_test data sets\n",
    "x_test = []\n",
    "y_test =  dataset[training_data_len : , : ] #Get all of the rows from index 1603 to the rest and all of the columns (in this case it's only column 'Close'), so 2003 - 1603 = 400 rows of data\n",
    "for i in range(60,len(test_data)):\n",
    "    x_test.append(test_data[i-60:i,0])"
   ]
  },
  {
   "cell_type": "code",
   "execution_count": 20,
   "id": "9d31ca8e",
   "metadata": {},
   "outputs": [],
   "source": [
    "x_test = np.array(x_test)"
   ]
  },
  {
   "cell_type": "code",
   "execution_count": 21,
   "id": "b3c64443",
   "metadata": {},
   "outputs": [],
   "source": [
    "x_test = np.reshape(x_test, (x_test.shape[0],x_test.shape[1],1))"
   ]
  },
  {
   "cell_type": "code",
   "execution_count": 22,
   "id": "48881b09",
   "metadata": {},
   "outputs": [],
   "source": [
    "predictions = model.predict(x_test) \n",
    "predictions = scaler.inverse_transform(predictions)"
   ]
  },
  {
   "cell_type": "code",
   "execution_count": 23,
   "id": "7770defe",
   "metadata": {},
   "outputs": [
    {
     "data": {
      "text/plain": [
       "9.716786364104092"
      ]
     },
     "execution_count": 23,
     "metadata": {},
     "output_type": "execute_result"
    }
   ],
   "source": [
    "rmse=np.sqrt(np.mean(((predictions- y_test)**2)))\n",
    "rmse"
   ]
  },
  {
   "cell_type": "code",
   "execution_count": 24,
   "id": "d81eead0",
   "metadata": {},
   "outputs": [
    {
     "name": "stderr",
     "output_type": "stream",
     "text": [
      "C:\\Users\\Shaun\\AppData\\Local\\Temp/ipykernel_16076/2702570860.py:3: SettingWithCopyWarning: \n",
      "A value is trying to be set on a copy of a slice from a DataFrame.\n",
      "Try using .loc[row_indexer,col_indexer] = value instead\n",
      "\n",
      "See the caveats in the documentation: https://pandas.pydata.org/pandas-docs/stable/user_guide/indexing.html#returning-a-view-versus-a-copy\n",
      "  display['Predictions'] = predictions#Visualize the data\n"
     ]
    },
    {
     "data": {
      "image/png": "[encoded data removed]",
      "text/plain": [
       "<Figure size 1152x576 with 1 Axes>"
      ]
     },
     "metadata": {
      "needs_background": "light"
     },
     "output_type": "display_data"
    }
   ],
   "source": [
    "train = data[:training_data_len]\n",
    "display = data[training_data_len:]\n",
    "display['Predictions'] = predictions#Visualize the data\n",
    "plt.figure(figsize=(16,8))\n",
    "plt.title('Model')\n",
    "plt.xlabel('Date', fontsize=18)\n",
    "plt.ylabel('Close Price INR', fontsize=18)\n",
    "plt.plot(train['close'])\n",
    "plt.plot(display['close'])\n",
    "plt.plot(display['Predictions'])\n",
    "plt.legend(['Train', 'Val', 'Predictions'], loc='upper right')\n",
    "plt.show()"
   ]
  },
  {
   "cell_type": "code",
   "execution_count": 25,
   "id": "0226853c",
   "metadata": {},
   "outputs": [
    {
     "data": {
      "text/html": [
       "<div>\n",
       "<style scoped>\n",
       "    .dataframe tbody tr th:only-of-type {\n",
       "        vertical-align: middle;\n",
       "    }\n",
       "\n",
       "    .dataframe tbody tr th {\n",
       "        vertical-align: top;\n",
       "    }\n",
       "\n",
       "    .dataframe thead th {\n",
       "        text-align: right;\n",
       "    }\n",
       "</style>\n",
       "<table border=\"1\" class=\"dataframe\">\n",
       "  <thead>\n",
       "    <tr style=\"text-align: right;\">\n",
       "      <th></th>\n",
       "      <th>timestamp</th>\n",
       "      <th>open</th>\n",
       "      <th>high</th>\n",
       "      <th>low</th>\n",
       "      <th>close</th>\n",
       "      <th>volume</th>\n",
       "    </tr>\n",
       "  </thead>\n",
       "  <tbody>\n",
       "    <tr>\n",
       "      <th>0</th>\n",
       "      <td>2017-01-02 09:15:00+05:30</td>\n",
       "      <td>2640.15</td>\n",
       "      <td>2654.30</td>\n",
       "      <td>2617.55</td>\n",
       "      <td>2627.00</td>\n",
       "      <td>2235.0</td>\n",
       "    </tr>\n",
       "    <tr>\n",
       "      <th>1</th>\n",
       "      <td>2017-01-02 09:16:00+05:30</td>\n",
       "      <td>2627.00</td>\n",
       "      <td>2646.10</td>\n",
       "      <td>2612.35</td>\n",
       "      <td>2612.35</td>\n",
       "      <td>2806.0</td>\n",
       "    </tr>\n",
       "    <tr>\n",
       "      <th>2</th>\n",
       "      <td>2017-01-02 09:17:00+05:30</td>\n",
       "      <td>2614.45</td>\n",
       "      <td>2614.45</td>\n",
       "      <td>2591.30</td>\n",
       "      <td>2596.00</td>\n",
       "      <td>7443.0</td>\n",
       "    </tr>\n",
       "    <tr>\n",
       "      <th>3</th>\n",
       "      <td>2017-01-02 09:18:00+05:30</td>\n",
       "      <td>2596.00</td>\n",
       "      <td>2596.00</td>\n",
       "      <td>2587.75</td>\n",
       "      <td>2590.80</td>\n",
       "      <td>3289.0</td>\n",
       "    </tr>\n",
       "    <tr>\n",
       "      <th>4</th>\n",
       "      <td>2017-01-02 09:19:00+05:30</td>\n",
       "      <td>2593.00</td>\n",
       "      <td>2596.95</td>\n",
       "      <td>2584.00</td>\n",
       "      <td>2589.95</td>\n",
       "      <td>4862.0</td>\n",
       "    </tr>\n",
       "    <tr>\n",
       "      <th>...</th>\n",
       "      <td>...</td>\n",
       "      <td>...</td>\n",
       "      <td>...</td>\n",
       "      <td>...</td>\n",
       "      <td>...</td>\n",
       "      <td>...</td>\n",
       "    </tr>\n",
       "    <tr>\n",
       "      <th>370541</th>\n",
       "      <td>2021-01-01 15:25:00+05:30</td>\n",
       "      <td>3472.80</td>\n",
       "      <td>3475.85</td>\n",
       "      <td>3470.00</td>\n",
       "      <td>3470.05</td>\n",
       "      <td>2059.0</td>\n",
       "    </tr>\n",
       "    <tr>\n",
       "      <th>370542</th>\n",
       "      <td>2021-01-01 15:26:00+05:30</td>\n",
       "      <td>3470.05</td>\n",
       "      <td>3477.35</td>\n",
       "      <td>3469.15</td>\n",
       "      <td>3473.40</td>\n",
       "      <td>1991.0</td>\n",
       "    </tr>\n",
       "    <tr>\n",
       "      <th>370543</th>\n",
       "      <td>2021-01-01 15:27:00+05:30</td>\n",
       "      <td>3473.40</td>\n",
       "      <td>3475.00</td>\n",
       "      <td>3470.45</td>\n",
       "      <td>3470.45</td>\n",
       "      <td>1372.0</td>\n",
       "    </tr>\n",
       "    <tr>\n",
       "      <th>370544</th>\n",
       "      <td>2021-01-01 15:28:00+05:30</td>\n",
       "      <td>3470.45</td>\n",
       "      <td>3475.00</td>\n",
       "      <td>3470.00</td>\n",
       "      <td>3472.20</td>\n",
       "      <td>1442.0</td>\n",
       "    </tr>\n",
       "    <tr>\n",
       "      <th>370545</th>\n",
       "      <td>2021-01-01 15:29:00+05:30</td>\n",
       "      <td>3473.35</td>\n",
       "      <td>3479.60</td>\n",
       "      <td>3470.45</td>\n",
       "      <td>3479.00</td>\n",
       "      <td>352.0</td>\n",
       "    </tr>\n",
       "  </tbody>\n",
       "</table>\n",
       "<p>370408 rows × 6 columns</p>\n",
       "</div>"
      ],
      "text/plain": [
       "                        timestamp     open     high      low    close  volume\n",
       "0       2017-01-02 09:15:00+05:30  2640.15  2654.30  2617.55  2627.00  2235.0\n",
       "1       2017-01-02 09:16:00+05:30  2627.00  2646.10  2612.35  2612.35  2806.0\n",
       "2       2017-01-02 09:17:00+05:30  2614.45  2614.45  2591.30  2596.00  7443.0\n",
       "3       2017-01-02 09:18:00+05:30  2596.00  2596.00  2587.75  2590.80  3289.0\n",
       "4       2017-01-02 09:19:00+05:30  2593.00  2596.95  2584.00  2589.95  4862.0\n",
       "...                           ...      ...      ...      ...      ...     ...\n",
       "370541  2021-01-01 15:25:00+05:30  3472.80  3475.85  3470.00  3470.05  2059.0\n",
       "370542  2021-01-01 15:26:00+05:30  3470.05  3477.35  3469.15  3473.40  1991.0\n",
       "370543  2021-01-01 15:27:00+05:30  3473.40  3475.00  3470.45  3470.45  1372.0\n",
       "370544  2021-01-01 15:28:00+05:30  3470.45  3475.00  3470.00  3472.20  1442.0\n",
       "370545  2021-01-01 15:29:00+05:30  3473.35  3479.60  3470.45  3479.00   352.0\n",
       "\n",
       "[370408 rows x 6 columns]"
      ]
     },
     "execution_count": 25,
     "metadata": {},
     "output_type": "execute_result"
    }
   ],
   "source": [
    "df"
   ]
  },
  {
   "cell_type": "code",
   "execution_count": null,
   "id": "79482a1d",
   "metadata": {},
   "outputs": [],
   "source": [
    "3,906.60\n",
    "Open\n",
    "3,890.00\n",
    "High\n",
    "3,920.00\n",
    "Low\n",
    "3,872.00"
   ]
  },
  {
   "cell_type": "code",
   "execution_count": 26,
   "id": "93fb1844",
   "metadata": {},
   "outputs": [
    {
     "name": "stdout",
     "output_type": "stream",
     "text": [
      "WARNING:tensorflow:Model was constructed with shape (None, 60, 1) for input KerasTensor(type_spec=TensorSpec(shape=(None, 60, 1), dtype=tf.float32, name='lstm_input'), name='lstm_input', description=\"created by layer 'lstm_input'\"), but it was called on an input with incompatible shape (None,).\n"
     ]
    },
    {
     "ename": "ValueError",
     "evalue": "in user code:\n\n    File \"C:\\Users\\Shaun\\anaconda3\\lib\\site-packages\\keras\\engine\\training.py\", line 1801, in predict_function  *\n        return step_function(self, iterator)\n    File \"C:\\Users\\Shaun\\anaconda3\\lib\\site-packages\\keras\\engine\\training.py\", line 1790, in step_function  **\n        outputs = model.distribute_strategy.run(run_step, args=(data,))\n    File \"C:\\Users\\Shaun\\anaconda3\\lib\\site-packages\\keras\\engine\\training.py\", line 1783, in run_step  **\n        outputs = model.predict_step(data)\n    File \"C:\\Users\\Shaun\\anaconda3\\lib\\site-packages\\keras\\engine\\training.py\", line 1751, in predict_step\n        return self(x, training=False)\n    File \"C:\\Users\\Shaun\\anaconda3\\lib\\site-packages\\keras\\utils\\traceback_utils.py\", line 67, in error_handler\n        raise e.with_traceback(filtered_tb) from None\n    File \"C:\\Users\\Shaun\\anaconda3\\lib\\site-packages\\keras\\engine\\input_spec.py\", line 214, in assert_input_compatibility\n        raise ValueError(f'Input {input_index} of layer \"{layer_name}\" '\n\n    ValueError: Exception encountered when calling layer \"sequential\" (type Sequential).\n    \n    Input 0 of layer \"lstm\" is incompatible with the layer: expected ndim=3, found ndim=1. Full shape received: (None,)\n    \n    Call arguments received:\n      • inputs=tf.Tensor(shape=(None,), dtype=float32)\n      • training=False\n      • mask=None\n",
     "output_type": "error",
     "traceback": [
      "\u001b[1;31m---------------------------------------------------------------------------\u001b[0m",
      "\u001b[1;31mValueError\u001b[0m                                Traceback (most recent call last)",
      "\u001b[1;32m~\\AppData\\Local\\Temp/ipykernel_16076/2087357499.py\u001b[0m in \u001b[0;36m<module>\u001b[1;34m\u001b[0m\n\u001b[1;32m----> 1\u001b[1;33m \u001b[0mmodel\u001b[0m\u001b[1;33m.\u001b[0m\u001b[0mpredict\u001b[0m\u001b[1;33m(\u001b[0m\u001b[1;33m[\u001b[0m\u001b[1;36m3890.00\u001b[0m\u001b[1;33m,\u001b[0m\u001b[1;36m3920.00\u001b[0m\u001b[1;33m,\u001b[0m\u001b[1;36m3872.00\u001b[0m\u001b[1;33m,\u001b[0m\u001b[1;36m2\u001b[0m\u001b[1;33m,\u001b[0m\u001b[1;36m504.27\u001b[0m\u001b[1;33m]\u001b[0m\u001b[1;33m)\u001b[0m\u001b[1;33m\u001b[0m\u001b[1;33m\u001b[0m\u001b[0m\n\u001b[0m",
      "\u001b[1;32m~\\anaconda3\\lib\\site-packages\\keras\\utils\\traceback_utils.py\u001b[0m in \u001b[0;36merror_handler\u001b[1;34m(*args, **kwargs)\u001b[0m\n\u001b[0;32m     65\u001b[0m     \u001b[1;32mexcept\u001b[0m \u001b[0mException\u001b[0m \u001b[1;32mas\u001b[0m \u001b[0me\u001b[0m\u001b[1;33m:\u001b[0m  \u001b[1;31m# pylint: disable=broad-except\u001b[0m\u001b[1;33m\u001b[0m\u001b[1;33m\u001b[0m\u001b[0m\n\u001b[0;32m     66\u001b[0m       \u001b[0mfiltered_tb\u001b[0m \u001b[1;33m=\u001b[0m \u001b[0m_process_traceback_frames\u001b[0m\u001b[1;33m(\u001b[0m\u001b[0me\u001b[0m\u001b[1;33m.\u001b[0m\u001b[0m__traceback__\u001b[0m\u001b[1;33m)\u001b[0m\u001b[1;33m\u001b[0m\u001b[1;33m\u001b[0m\u001b[0m\n\u001b[1;32m---> 67\u001b[1;33m       \u001b[1;32mraise\u001b[0m \u001b[0me\u001b[0m\u001b[1;33m.\u001b[0m\u001b[0mwith_traceback\u001b[0m\u001b[1;33m(\u001b[0m\u001b[0mfiltered_tb\u001b[0m\u001b[1;33m)\u001b[0m \u001b[1;32mfrom\u001b[0m \u001b[1;32mNone\u001b[0m\u001b[1;33m\u001b[0m\u001b[1;33m\u001b[0m\u001b[0m\n\u001b[0m\u001b[0;32m     68\u001b[0m     \u001b[1;32mfinally\u001b[0m\u001b[1;33m:\u001b[0m\u001b[1;33m\u001b[0m\u001b[1;33m\u001b[0m\u001b[0m\n\u001b[0;32m     69\u001b[0m       \u001b[1;32mdel\u001b[0m \u001b[0mfiltered_tb\u001b[0m\u001b[1;33m\u001b[0m\u001b[1;33m\u001b[0m\u001b[0m\n",
      "\u001b[1;32m~\\anaconda3\\lib\\site-packages\\tensorflow\\python\\framework\\func_graph.py\u001b[0m in \u001b[0;36mautograph_handler\u001b[1;34m(*args, **kwargs)\u001b[0m\n\u001b[0;32m   1145\u001b[0m           \u001b[1;32mexcept\u001b[0m \u001b[0mException\u001b[0m \u001b[1;32mas\u001b[0m \u001b[0me\u001b[0m\u001b[1;33m:\u001b[0m  \u001b[1;31m# pylint:disable=broad-except\u001b[0m\u001b[1;33m\u001b[0m\u001b[1;33m\u001b[0m\u001b[0m\n\u001b[0;32m   1146\u001b[0m             \u001b[1;32mif\u001b[0m \u001b[0mhasattr\u001b[0m\u001b[1;33m(\u001b[0m\u001b[0me\u001b[0m\u001b[1;33m,\u001b[0m \u001b[1;34m\"ag_error_metadata\"\u001b[0m\u001b[1;33m)\u001b[0m\u001b[1;33m:\u001b[0m\u001b[1;33m\u001b[0m\u001b[1;33m\u001b[0m\u001b[0m\n\u001b[1;32m-> 1147\u001b[1;33m               \u001b[1;32mraise\u001b[0m \u001b[0me\u001b[0m\u001b[1;33m.\u001b[0m\u001b[0mag_error_metadata\u001b[0m\u001b[1;33m.\u001b[0m\u001b[0mto_exception\u001b[0m\u001b[1;33m(\u001b[0m\u001b[0me\u001b[0m\u001b[1;33m)\u001b[0m\u001b[1;33m\u001b[0m\u001b[1;33m\u001b[0m\u001b[0m\n\u001b[0m\u001b[0;32m   1148\u001b[0m             \u001b[1;32melse\u001b[0m\u001b[1;33m:\u001b[0m\u001b[1;33m\u001b[0m\u001b[1;33m\u001b[0m\u001b[0m\n\u001b[0;32m   1149\u001b[0m               \u001b[1;32mraise\u001b[0m\u001b[1;33m\u001b[0m\u001b[1;33m\u001b[0m\u001b[0m\n",
      "\u001b[1;31mValueError\u001b[0m: in user code:\n\n    File \"C:\\Users\\Shaun\\anaconda3\\lib\\site-packages\\keras\\engine\\training.py\", line 1801, in predict_function  *\n        return step_function(self, iterator)\n    File \"C:\\Users\\Shaun\\anaconda3\\lib\\site-packages\\keras\\engine\\training.py\", line 1790, in step_function  **\n        outputs = model.distribute_strategy.run(run_step, args=(data,))\n    File \"C:\\Users\\Shaun\\anaconda3\\lib\\site-packages\\keras\\engine\\training.py\", line 1783, in run_step  **\n        outputs = model.predict_step(data)\n    File \"C:\\Users\\Shaun\\anaconda3\\lib\\site-packages\\keras\\engine\\training.py\", line 1751, in predict_step\n        return self(x, training=False)\n    File \"C:\\Users\\Shaun\\anaconda3\\lib\\site-packages\\keras\\utils\\traceback_utils.py\", line 67, in error_handler\n        raise e.with_traceback(filtered_tb) from None\n    File \"C:\\Users\\Shaun\\anaconda3\\lib\\site-packages\\keras\\engine\\input_spec.py\", line 214, in assert_input_compatibility\n        raise ValueError(f'Input {input_index} of layer \"{layer_name}\" '\n\n    ValueError: Exception encountered when calling layer \"sequential\" (type Sequential).\n    \n    Input 0 of layer \"lstm\" is incompatible with the layer: expected ndim=3, found ndim=1. Full shape received: (None,)\n    \n    Call arguments received:\n      • inputs=tf.Tensor(shape=(None,), dtype=float32)\n      • training=False\n      • mask=None\n"
     ]
    }
   ],
   "source": [
    "model.predict([3890.00,3920.00,3872.00,2,504.27])"
   ]
  },
  {
   "cell_type": "code",
   "execution_count": 30,
   "id": "ce9ec347",
   "metadata": {},
   "outputs": [
    {
     "data": {
      "text/plain": [
       "0.24725226154344826"
      ]
     },
     "execution_count": 30,
     "metadata": {},
     "output_type": "execute_result"
    }
   ],
   "source": [
    "x_test[0][0][0]"
   ]
  },
  {
   "cell_type": "code",
   "execution_count": 62,
   "id": "ac04aa9c",
   "metadata": {},
   "outputs": [],
   "source": [
    "test_data=np.array([3890.,3920.,3872.,3504.])"
   ]
  },
  {
   "cell_type": "code",
   "execution_count": 44,
   "id": "8a6073cd",
   "metadata": {},
   "outputs": [
    {
     "data": {
      "text/plain": [
       "array([3890., 3920., 3872., 2504.])"
      ]
     },
     "execution_count": 44,
     "metadata": {},
     "output_type": "execute_result"
    }
   ],
   "source": [
    "test_data"
   ]
  },
  {
   "cell_type": "code",
   "execution_count": 52,
   "id": "5c1c0f6f",
   "metadata": {},
   "outputs": [],
   "source": [
    "scaler = MinMaxScaler(feature_range=(0, 1)) \n",
    "scaled_data_test = scaler.fit_transform(np.vstack(test_data))"
   ]
  },
  {
   "cell_type": "code",
   "execution_count": 53,
   "id": "9816ef35",
   "metadata": {},
   "outputs": [
    {
     "data": {
      "text/plain": [
       "0.9788135593220337"
      ]
     },
     "execution_count": 53,
     "metadata": {},
     "output_type": "execute_result"
    }
   ],
   "source": [
    "scaled_data_test[0][0]"
   ]
  },
  {
   "cell_type": "code",
   "execution_count": 42,
   "id": "d0b2704d",
   "metadata": {
    "scrolled": true
   },
   "outputs": [
    {
     "data": {
      "text/plain": [
       "(370408, 1)"
      ]
     },
     "execution_count": 42,
     "metadata": {},
     "output_type": "execute_result"
    }
   ],
   "source": [
    "dataset.shape"
   ]
  },
  {
   "cell_type": "code",
   "execution_count": 61,
   "id": "ec62bf72",
   "metadata": {},
   "outputs": [
    {
     "data": {
      "text/plain": [
       "array([[2651.536 ],\n",
       "       [2652.9106],\n",
       "       [2650.711 ],\n",
       "       [2588.3452]], dtype=float32)"
      ]
     },
     "execution_count": 61,
     "metadata": {},
     "output_type": "execute_result"
    }
   ],
   "source": [
    "out=model.predict(scaled_data_test)\n",
    "out =scaler.inverse_transform(out)\n",
    "out"
   ]
  },
  {
   "cell_type": "code",
   "execution_count": 56,
   "id": "186d49f5",
   "metadata": {},
   "outputs": [],
   "source": [
    "# data_scaled = np.hstack(out)"
   ]
  },
  {
   "cell_type": "code",
   "execution_count": 57,
   "id": "5400e036",
   "metadata": {},
   "outputs": [
    {
     "data": {
      "text/plain": [
       "array([0.10419197, 0.10516282, 0.10360941, 0.05956587], dtype=float32)"
      ]
     },
     "execution_count": 57,
     "metadata": {},
     "output_type": "execute_result"
    }
   ],
   "source": [
    "data_scaled"
   ]
  },
  {
   "cell_type": "code",
   "execution_count": 59,
   "id": "26fc04af",
   "metadata": {},
   "outputs": [
    {
     "data": {
      "text/plain": [
       "array([[2235.465 ],\n",
       "       [2237.139 ],\n",
       "       [2238.7866],\n",
       "       ...,\n",
       "       [3464.6138],\n",
       "       [3463.7751],\n",
       "       [3463.0627]], dtype=float32)"
      ]
     },
     "execution_count": 59,
     "metadata": {},
     "output_type": "execute_result"
    }
   ],
   "source": [
    "predictions"
   ]
  },
  {
   "cell_type": "code",
   "execution_count": 64,
   "id": "43b7e52f",
   "metadata": {},
   "outputs": [
    {
     "data": {
      "text/plain": [
       "(74081, 60, 1)"
      ]
     },
     "execution_count": 64,
     "metadata": {},
     "output_type": "execute_result"
    }
   ],
   "source": [
    "x_test.shape"
   ]
  },
  {
   "cell_type": "code",
   "execution_count": null,
   "id": "9a034111",
   "metadata": {},
   "outputs": [],
   "source": []
  }
 ],
 "metadata": {
  "kernelspec": {
   "display_name": "Python 3 (ipykernel)",
   "language": "python",
   "name": "python3"
  },
  "language_info": {
   "codemirror_mode": {
    "name": "ipython",
    "version": 3
   },
   "file_extension": ".py",
   "mimetype": "text/x-python",
   "name": "python",
   "nbconvert_exporter": "python",
   "pygments_lexer": "ipython3",
   "version": "3.9.7"
  }
 },
 "nbformat": 4,
 "nbformat_minor": 5
}
